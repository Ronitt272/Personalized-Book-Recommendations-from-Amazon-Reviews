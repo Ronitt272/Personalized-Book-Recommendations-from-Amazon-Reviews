{
  "cells": [
    {
      "cell_type": "markdown",
      "id": "da3eb633",
      "metadata": {
        "id": "da3eb633"
      },
      "source": [
        "# Sentiment Analysis - Random Forest"
      ]
    },
    {
      "cell_type": "code",
      "execution_count": null,
      "id": "af7e58ef",
      "metadata": {
        "id": "af7e58ef",
        "tags": []
      },
      "outputs": [],
      "source": [
        "import pandas as pd\n",
        "from sklearn.model_selection import train_test_split, GridSearchCV, cross_val_score\n",
        "from sklearn.feature_extraction.text import TfidfVectorizer\n",
        "from sklearn.linear_model import LogisticRegression\n",
        "from sklearn.metrics import accuracy_score, f1_score\n",
        "from nltk.corpus import stopwords\n",
        "import nltk\n",
        "from sklearn.pipeline import Pipeline"
      ]
    },
    {
      "cell_type": "code",
      "execution_count": null,
      "id": "aff937fe",
      "metadata": {
        "id": "aff937fe",
        "tags": []
      },
      "outputs": [],
      "source": [
        "df = pd.read_csv(\"kaggle/input/final-data-csv/final_data.csv\")"
      ]
    },
    {
      "cell_type": "code",
      "execution_count": null,
      "id": "e5c357ed",
      "metadata": {
        "colab": {
          "base_uri": "https://localhost:8080/",
          "height": 573
        },
        "id": "e5c357ed",
        "outputId": "b8e408da-b9a8-440b-9b16-70551ef5df36",
        "tags": []
      },
      "outputs": [
        {
          "data": {
            "text/html": [
              "<div>\n",
              "<style scoped>\n",
              "    .dataframe tbody tr th:only-of-type {\n",
              "        vertical-align: middle;\n",
              "    }\n",
              "\n",
              "    .dataframe tbody tr th {\n",
              "        vertical-align: top;\n",
              "    }\n",
              "\n",
              "    .dataframe thead th {\n",
              "        text-align: right;\n",
              "    }\n",
              "</style>\n",
              "<table border=\"1\" class=\"dataframe\">\n",
              "  <thead>\n",
              "    <tr style=\"text-align: right;\">\n",
              "      <th></th>\n",
              "      <th>Unnamed: 0</th>\n",
              "      <th>Id</th>\n",
              "      <th>Title</th>\n",
              "      <th>User_id</th>\n",
              "      <th>review/helpfulness</th>\n",
              "      <th>review/score</th>\n",
              "      <th>review/time</th>\n",
              "      <th>review/summary</th>\n",
              "      <th>review/text</th>\n",
              "      <th>description</th>\n",
              "      <th>authors</th>\n",
              "      <th>publisher</th>\n",
              "      <th>publishedDate</th>\n",
              "      <th>categories</th>\n",
              "      <th>ratingsCount</th>\n",
              "      <th>compound</th>\n",
              "      <th>Sentiment</th>\n",
              "    </tr>\n",
              "  </thead>\n",
              "  <tbody>\n",
              "    <tr>\n",
              "      <th>0</th>\n",
              "      <td>0</td>\n",
              "      <td>1882931173</td>\n",
              "      <td>Its Only Art If Its Well Hung!</td>\n",
              "      <td>AVCGYZL8FQQTD</td>\n",
              "      <td>7/7</td>\n",
              "      <td>4.0</td>\n",
              "      <td>940636800</td>\n",
              "      <td>Nice collection of Julie Strain images</td>\n",
              "      <td>This is only for Julie Strain fans. It's a col...</td>\n",
              "      <td>NaN</td>\n",
              "      <td>['Julie Strain']</td>\n",
              "      <td>NaN</td>\n",
              "      <td>1996</td>\n",
              "      <td>['Comics &amp; Graphic Novels']</td>\n",
              "      <td>2.0</td>\n",
              "      <td>0.9408</td>\n",
              "      <td>positive</td>\n",
              "    </tr>\n",
              "    <tr>\n",
              "      <th>1</th>\n",
              "      <td>1</td>\n",
              "      <td>0826414346</td>\n",
              "      <td>Dr. Seuss: American Icon</td>\n",
              "      <td>A30TK6U7DNS82R</td>\n",
              "      <td>10/10</td>\n",
              "      <td>5.0</td>\n",
              "      <td>1095724800</td>\n",
              "      <td>Really Enjoyed It</td>\n",
              "      <td>I don't care much for Dr. Seuss but after read...</td>\n",
              "      <td>Philip Nel takes a fascinating look into the k...</td>\n",
              "      <td>['Philip Nel']</td>\n",
              "      <td>A&amp;C Black</td>\n",
              "      <td>2005-01-01</td>\n",
              "      <td>['Biography &amp; Autobiography']</td>\n",
              "      <td>2.0</td>\n",
              "      <td>0.9876</td>\n",
              "      <td>positive</td>\n",
              "    </tr>\n",
              "    <tr>\n",
              "      <th>2</th>\n",
              "      <td>2</td>\n",
              "      <td>0826414346</td>\n",
              "      <td>Dr. Seuss: American Icon</td>\n",
              "      <td>A3UH4UZ4RSVO82</td>\n",
              "      <td>10/11</td>\n",
              "      <td>5.0</td>\n",
              "      <td>1078790400</td>\n",
              "      <td>Essential for every personal and Public Library</td>\n",
              "      <td>If people become the books they read and if \"t...</td>\n",
              "      <td>Philip Nel takes a fascinating look into the k...</td>\n",
              "      <td>['Philip Nel']</td>\n",
              "      <td>A&amp;C Black</td>\n",
              "      <td>2005-01-01</td>\n",
              "      <td>['Biography &amp; Autobiography']</td>\n",
              "      <td>2.0</td>\n",
              "      <td>0.9932</td>\n",
              "      <td>positive</td>\n",
              "    </tr>\n",
              "    <tr>\n",
              "      <th>3</th>\n",
              "      <td>3</td>\n",
              "      <td>0826414346</td>\n",
              "      <td>Dr. Seuss: American Icon</td>\n",
              "      <td>A2MVUWT453QH61</td>\n",
              "      <td>7/7</td>\n",
              "      <td>4.0</td>\n",
              "      <td>1090713600</td>\n",
              "      <td>Phlip Nel gives silly Seuss a serious treatment</td>\n",
              "      <td>Theodore Seuss Geisel (1904-1991), aka &amp;quot;D...</td>\n",
              "      <td>Philip Nel takes a fascinating look into the k...</td>\n",
              "      <td>['Philip Nel']</td>\n",
              "      <td>A&amp;C Black</td>\n",
              "      <td>2005-01-01</td>\n",
              "      <td>['Biography &amp; Autobiography']</td>\n",
              "      <td>2.0</td>\n",
              "      <td>0.9782</td>\n",
              "      <td>positive</td>\n",
              "    </tr>\n",
              "    <tr>\n",
              "      <th>4</th>\n",
              "      <td>4</td>\n",
              "      <td>0826414346</td>\n",
              "      <td>Dr. Seuss: American Icon</td>\n",
              "      <td>A22X4XUPKF66MR</td>\n",
              "      <td>3/3</td>\n",
              "      <td>4.0</td>\n",
              "      <td>1107993600</td>\n",
              "      <td>Good academic overview</td>\n",
              "      <td>Philip Nel - Dr. Seuss: American IconThis is b...</td>\n",
              "      <td>Philip Nel takes a fascinating look into the k...</td>\n",
              "      <td>['Philip Nel']</td>\n",
              "      <td>A&amp;C Black</td>\n",
              "      <td>2005-01-01</td>\n",
              "      <td>['Biography &amp; Autobiography']</td>\n",
              "      <td>2.0</td>\n",
              "      <td>0.9604</td>\n",
              "      <td>positive</td>\n",
              "    </tr>\n",
              "  </tbody>\n",
              "</table>\n",
              "</div>"
            ],
            "text/plain": [
              "   Unnamed: 0          Id                           Title         User_id  \\\n",
              "0           0  1882931173  Its Only Art If Its Well Hung!   AVCGYZL8FQQTD   \n",
              "1           1  0826414346        Dr. Seuss: American Icon  A30TK6U7DNS82R   \n",
              "2           2  0826414346        Dr. Seuss: American Icon  A3UH4UZ4RSVO82   \n",
              "3           3  0826414346        Dr. Seuss: American Icon  A2MVUWT453QH61   \n",
              "4           4  0826414346        Dr. Seuss: American Icon  A22X4XUPKF66MR   \n",
              "\n",
              "  review/helpfulness  review/score  review/time  \\\n",
              "0                7/7           4.0    940636800   \n",
              "1              10/10           5.0   1095724800   \n",
              "2              10/11           5.0   1078790400   \n",
              "3                7/7           4.0   1090713600   \n",
              "4                3/3           4.0   1107993600   \n",
              "\n",
              "                                    review/summary  \\\n",
              "0           Nice collection of Julie Strain images   \n",
              "1                                Really Enjoyed It   \n",
              "2  Essential for every personal and Public Library   \n",
              "3  Phlip Nel gives silly Seuss a serious treatment   \n",
              "4                           Good academic overview   \n",
              "\n",
              "                                         review/text  \\\n",
              "0  This is only for Julie Strain fans. It's a col...   \n",
              "1  I don't care much for Dr. Seuss but after read...   \n",
              "2  If people become the books they read and if \"t...   \n",
              "3  Theodore Seuss Geisel (1904-1991), aka &quot;D...   \n",
              "4  Philip Nel - Dr. Seuss: American IconThis is b...   \n",
              "\n",
              "                                         description           authors  \\\n",
              "0                                                NaN  ['Julie Strain']   \n",
              "1  Philip Nel takes a fascinating look into the k...    ['Philip Nel']   \n",
              "2  Philip Nel takes a fascinating look into the k...    ['Philip Nel']   \n",
              "3  Philip Nel takes a fascinating look into the k...    ['Philip Nel']   \n",
              "4  Philip Nel takes a fascinating look into the k...    ['Philip Nel']   \n",
              "\n",
              "   publisher publishedDate                     categories  ratingsCount  \\\n",
              "0        NaN          1996    ['Comics & Graphic Novels']           2.0   \n",
              "1  A&C Black    2005-01-01  ['Biography & Autobiography']           2.0   \n",
              "2  A&C Black    2005-01-01  ['Biography & Autobiography']           2.0   \n",
              "3  A&C Black    2005-01-01  ['Biography & Autobiography']           2.0   \n",
              "4  A&C Black    2005-01-01  ['Biography & Autobiography']           2.0   \n",
              "\n",
              "   compound Sentiment  \n",
              "0    0.9408  positive  \n",
              "1    0.9876  positive  \n",
              "2    0.9932  positive  \n",
              "3    0.9782  positive  \n",
              "4    0.9604  positive  "
            ]
          },
          "execution_count": 3,
          "metadata": {},
          "output_type": "execute_result"
        }
      ],
      "source": [
        "df.head()"
      ]
    },
    {
      "cell_type": "markdown",
      "id": "121da74c",
      "metadata": {
        "id": "121da74c"
      },
      "source": [
        "### Data Cleaning\n",
        "\n",
        "- Filling all the missing values in 'review/text' column with the placeholder string \"No Review Text\".\n",
        "- Filling all the missing values in the 'Sentiment' column with the mode of the column"
      ]
    },
    {
      "cell_type": "code",
      "execution_count": null,
      "id": "176df90d",
      "metadata": {
        "id": "176df90d",
        "tags": []
      },
      "outputs": [],
      "source": [
        "df['review/text'].fillna(\"No review text\", inplace=True)\n",
        "\n",
        "mode = df['Sentiment'].mode()[0]\n",
        "df['Sentiment'].fillna(mode, inplace=True)"
      ]
    },
    {
      "cell_type": "markdown",
      "id": "6f602a88",
      "metadata": {
        "id": "6f602a88"
      },
      "source": [
        "### Train-Test Split\n",
        "\n",
        "#### Choosing an 80:20 split for the development and the test sets"
      ]
    },
    {
      "cell_type": "code",
      "execution_count": null,
      "id": "54412cf5",
      "metadata": {
        "id": "54412cf5",
        "tags": []
      },
      "outputs": [],
      "source": [
        "X_train, X_test, y_train, y_test = train_test_split(\n",
        "    df['review/text'],\n",
        "    df['Sentiment'],\n",
        "    test_size=0.2,\n",
        "    random_state=42,\n",
        "    stratify=df['Sentiment'])"
      ]
    },
    {
      "cell_type": "markdown",
      "id": "a5c668ca",
      "metadata": {
        "id": "a5c668ca"
      },
      "source": [
        "### Text Vectorization and Stopwords Removal\n",
        "\n",
        "- Vectorizing the textual data using TFIDF Vectorizer\n",
        "- Removing the stopwords"
      ]
    },
    {
      "cell_type": "code",
      "execution_count": null,
      "id": "f71df0f9",
      "metadata": {
        "colab": {
          "base_uri": "https://localhost:8080/"
        },
        "id": "f71df0f9",
        "outputId": "467171d9-4a46-4c53-e459-3b459f7e4dcf",
        "tags": []
      },
      "outputs": [
        {
          "name": "stderr",
          "output_type": "stream",
          "text": [
            "[nltk_data] Downloading package stopwords to\n",
            "[nltk_data]     /home/jupyter/nltk_data...\n",
            "[nltk_data]   Package stopwords is already up-to-date!\n"
          ]
        },
        {
          "data": {
            "text/plain": [
              "True"
            ]
          },
          "execution_count": 6,
          "metadata": {},
          "output_type": "execute_result"
        }
      ],
      "source": [
        "nltk.download('stopwords')"
      ]
    },
    {
      "cell_type": "code",
      "execution_count": null,
      "id": "84d63c5e",
      "metadata": {
        "id": "84d63c5e",
        "tags": []
      },
      "outputs": [],
      "source": [
        "stop_words = stopwords.words('english')"
      ]
    },
    {
      "cell_type": "code",
      "execution_count": null,
      "id": "d79c4dff",
      "metadata": {
        "id": "d79c4dff",
        "tags": []
      },
      "outputs": [],
      "source": [
        "vectorizer = TfidfVectorizer(stop_words=stop_words, max_features=1000)"
      ]
    },
    {
      "cell_type": "markdown",
      "id": "04784ec4",
      "metadata": {
        "id": "04784ec4"
      },
      "source": [
        "### Training a Random Forest Classifier\n",
        "\n",
        "Since the model training takes an extremely long time given the larget dataset, here we opted\n",
        "to train one model and evaluated the results instead. This model uses 100 trees and\n",
        "a max_depth of 30 to have moderate control over overfitting."
      ]
    },
    {
      "cell_type": "code",
      "execution_count": null,
      "id": "06ac7237",
      "metadata": {
        "id": "06ac7237",
        "tags": []
      },
      "outputs": [],
      "source": [
        "from sklearn.preprocessing import StandardScaler, LabelEncoder\n",
        "from sklearn.ensemble import RandomForestClassifier\n",
        "pipeline = Pipeline([\n",
        "    ('tfidf', vectorizer),\n",
        "    ('scaler', StandardScaler(with_mean=False)),\n",
        "    ('classifier', RandomForestClassifier(\n",
        "        warm_start=True,\n",
        "        random_state=42,\n",
        "        n_jobs=-1,\n",
        "        max_depth=30,\n",
        "        n_estimators=100))\n",
        "])\n",
        "\n",
        "encoder = LabelEncoder()\n",
        "y_train_enc = encoder.fit_transform(y_train)\n",
        "y_test_enc = encoder.transform(y_test)"
      ]
    },
    {
      "cell_type": "code",
      "execution_count": null,
      "id": "8d2c4f54",
      "metadata": {
        "id": "8d2c4f54",
        "tags": []
      },
      "outputs": [],
      "source": [
        "pipeline.fit(X_train, y_train_enc)"
      ]
    },
    {
      "cell_type": "code",
      "execution_count": null,
      "id": "e7acb7c8",
      "metadata": {
        "id": "e7acb7c8",
        "tags": []
      },
      "outputs": [],
      "source": [
        "# cached trained model\n",
        "import pickle\n",
        "pickle.dump(pipeline, open('rf-single.pickle', 'wb'))"
      ]
    },
    {
      "cell_type": "markdown",
      "id": "5f2c81c4",
      "metadata": {
        "id": "5f2c81c4"
      },
      "source": [
        "### Evaluating the model"
      ]
    },
    {
      "cell_type": "code",
      "execution_count": null,
      "id": "e5a8469a",
      "metadata": {
        "id": "e5a8469a"
      },
      "outputs": [],
      "source": [
        "best_model = pipeline"
      ]
    },
    {
      "cell_type": "code",
      "execution_count": null,
      "id": "7d3a303f",
      "metadata": {
        "id": "7d3a303f"
      },
      "outputs": [],
      "source": [
        "y_pred = best_model.predict(X_test)"
      ]
    },
    {
      "cell_type": "code",
      "execution_count": null,
      "id": "32040598",
      "metadata": {
        "id": "32040598"
      },
      "outputs": [],
      "source": [
        "from sklearn.metrics import accuracy_score, classification_report\n",
        "accuracy = accuracy_score(y_test_enc, y_pred)\n",
        "report = classification_report(y_test_enc, y_pred)"
      ]
    },
    {
      "cell_type": "code",
      "execution_count": null,
      "id": "b674e8ea",
      "metadata": {
        "id": "b674e8ea",
        "outputId": "730ed2c3-39ef-4b1f-a8fc-8efec976c911"
      },
      "outputs": [
        {
          "name": "stdout",
          "output_type": "stream",
          "text": [
            "Accuracy on Test Set:  0.8525627353344107\n",
            "Classification Report on Test Set:\n",
            "              precision    recall  f1-score   support\n",
            "\n",
            "           0       0.97      0.13      0.23     71182\n",
            "           1       1.00      0.01      0.01      9709\n",
            "           2       0.85      1.00      0.92    406713\n",
            "\n",
            "    accuracy                           0.85    487604\n",
            "   macro avg       0.94      0.38      0.39    487604\n",
            "weighted avg       0.87      0.85      0.80    487604\n",
            "\n"
          ]
        }
      ],
      "source": [
        "print(\"Accuracy on Test Set: \", accuracy)\n",
        "print(\"Classification Report on Test Set:\")\n",
        "print(report)"
      ]
    },
    {
      "cell_type": "markdown",
      "id": "ac96a33a",
      "metadata": {
        "id": "ac96a33a"
      },
      "source": [
        "#### Scoring\n",
        "The random forest model had a good accuracy of 85%. While precision is high across the 3 classes, recall scores for negative and neutral classes are poor. Couple with a near perfect recall score for the positive class, this shows the model was not generalizing well over this imbalanced dataset."
      ]
    },
    {
      "cell_type": "markdown",
      "id": "b331fd63",
      "metadata": {
        "id": "b331fd63"
      },
      "source": [
        "## TPR VS FPR Curve\n",
        "\n",
        "#### ROC Curve is created for Binary Classification problems. However, we know that there are three sentiment labels: Negative, Neutral and Positive. Therefore, this problem is a multi-class classification problem. Therefore, converting this multi-class classification problem into a One vs Rest (OvR) Binary Classification problem, and we are plotting the ROC curve for the three cases."
      ]
    },
    {
      "cell_type": "code",
      "execution_count": null,
      "id": "4af21c76",
      "metadata": {
        "id": "4af21c76"
      },
      "outputs": [],
      "source": [
        "y_pred_prob = best_model.predict_proba(X_test)[:,2]"
      ]
    },
    {
      "cell_type": "code",
      "execution_count": null,
      "id": "d32733e6",
      "metadata": {
        "id": "d32733e6",
        "outputId": "131ca7b9-84f9-4591-e78c-0638aee68660"
      },
      "outputs": [
        {
          "name": "stdout",
          "output_type": "stream",
          "text": [
            "['negative' 'neutral' 'positive']\n"
          ]
        }
      ],
      "source": [
        "import numpy as np\n",
        "classes = np.unique(y_test)\n",
        "print(classes)"
      ]
    },
    {
      "cell_type": "code",
      "execution_count": null,
      "id": "3f910446",
      "metadata": {
        "id": "3f910446",
        "outputId": "20c6003b-66a1-4100-a9d5-b1b3180f8a4f"
      },
      "outputs": [
        {
          "name": "stdout",
          "output_type": "stream",
          "text": [
            "[[0 0 1]\n",
            " [0 0 1]\n",
            " [0 0 1]\n",
            " ...\n",
            " [0 0 1]\n",
            " [0 0 1]\n",
            " [1 0 0]]\n"
          ]
        }
      ],
      "source": [
        "from sklearn.preprocessing import label_binarize\n",
        "y_test_binarized = label_binarize(y_test, classes = classes)\n",
        "print(y_test_binarized)"
      ]
    },
    {
      "cell_type": "code",
      "execution_count": null,
      "id": "010b5b4d",
      "metadata": {
        "id": "010b5b4d"
      },
      "outputs": [],
      "source": [
        "# computing the ROC curve and the AUC for each of the three classes\n",
        "\n",
        "from sklearn.metrics import roc_curve, auc\n",
        "fpr = dict()\n",
        "tpr = dict()\n",
        "roc_auc = dict()\n",
        "y_score = best_model.predict_proba(X_test)\n",
        "n_classes = y_test_binarized.shape[1]\n",
        "\n",
        "for i in range(n_classes):\n",
        "    fpr[i], tpr[i], _ = roc_curve(y_test_binarized[:, i], y_score[:, i])\n",
        "    roc_auc[i] = auc(fpr[i], tpr[i])"
      ]
    },
    {
      "cell_type": "code",
      "execution_count": null,
      "id": "521fd598",
      "metadata": {
        "id": "521fd598",
        "outputId": "6ca8f73f-77f9-43f5-add6-b4a2dc4968c9"
      },
      "outputs": [
        {
          "data": {
            "image/png": "[encoded data removed]",
            "text/plain": [
              "<Figure size 640x480 with 1 Axes>"
            ]
          },
          "metadata": {},
          "output_type": "display_data"
        }
      ],
      "source": [
        "# color context:\n",
        "# blue - class 0 - negative sentiment\n",
        "# red - class 1 - neutral sentiment\n",
        "# green - class 2 - positive sentiment\n",
        "\n",
        "import matplotlib.pyplot as plt\n",
        "colors = ['blue', 'red', 'green']\n",
        "for i, color in zip(range(n_classes), colors):\n",
        "    plt.plot(fpr[i], tpr[i], color = color, lw = 2, label = 'ROC Curve for class {0} (AUC: {1:0.4f})'.format(classes[i], roc_auc[i]))\n",
        "\n",
        "#plt.plot([0, 1], [0, 1], 'k--', lw=2)\n",
        "plt.xlim([0.0, 1.0])\n",
        "plt.ylim([0.0, 1.05])\n",
        "plt.xlabel('False Positive Rate (TPR)')\n",
        "plt.ylabel('True Positive Rate (FPR)')\n",
        "plt.title('ROC Curve - One vs Rest')\n",
        "plt.legend(loc=\"upper left\", bbox_to_anchor=(1, 1))\n",
        "plt.show()"
      ]
    },
    {
      "cell_type": "markdown",
      "id": "a35c1ed4-f507-47e6-af7f-bb720e07c816",
      "metadata": {
        "id": "a35c1ed4-f507-47e6-af7f-bb720e07c816"
      },
      "source": [
        "The AUC-ROC scores are similar for positive and negative,\n",
        "and the score for the neutral clas is the highest."
      ]
    },
    {
      "cell_type": "markdown",
      "id": "0ff60978",
      "metadata": {
        "id": "0ff60978"
      },
      "source": []
    }
  ],
  "metadata": {
    "colab": {
      "provenance": []
    },
    "environment": {
      "kernel": "python3",
      "name": "tf2-cpu.2-11.m120",
      "type": "gcloud",
      "uri": "us-docker.pkg.dev/deeplearning-platform-release/gcr.io/tf2-cpu.2-11:m120"
    },
    "kaggle": {
      "accelerator": "none",
      "dataSources": [
        {
          "datasetId": 4857183,
          "sourceId": 8199403,
          "sourceType": "datasetVersion"
        }
      ],
      "dockerImageVersionId": 30702,
      "isGpuEnabled": false,
      "isInternetEnabled": false,
      "language": "python",
      "sourceType": "notebook"
    },
    "kernelspec": {
      "display_name": "Python 3 (Local)",
      "language": "python",
      "name": "python3"
    },
    "language_info": {
      "codemirror_mode": {
        "name": "ipython",
        "version": 3
      },
      "file_extension": ".py",
      "mimetype": "text/x-python",
      "name": "python",
      "nbconvert_exporter": "python",
      "pygments_lexer": "ipython3",
      "version": "3.10.14"
    }
  },
  "nbformat": 4,
  "nbformat_minor": 5
}