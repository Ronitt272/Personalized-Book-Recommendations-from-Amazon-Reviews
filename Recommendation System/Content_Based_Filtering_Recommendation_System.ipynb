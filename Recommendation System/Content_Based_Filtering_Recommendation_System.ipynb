{
 "cells": [
  {
   "cell_type": "markdown",
   "id": "4be2bed1",
   "metadata": {},
   "source": [
    "# Content Based Filtering\n",
    "\n",
    "- Filtering done on the basis of the features 'Title', 'authors', and 'categories'.\n",
    "- TFIDF Vectorization and Cosine Similarity used for recommending similar books based on the above three attributes."
   ]
  },
  {
   "cell_type": "code",
   "execution_count": 1,
   "id": "b184afe1",
   "metadata": {},
   "outputs": [],
   "source": [
    "import pandas as pd"
   ]
  },
  {
   "cell_type": "code",
   "execution_count": 2,
   "id": "c2fd7d63",
   "metadata": {},
   "outputs": [],
   "source": [
    "df = pd.read_csv('final_data.csv')"
   ]
  },
  {
   "cell_type": "code",
   "execution_count": 3,
   "id": "0a9a9ab8",
   "metadata": {},
   "outputs": [
    {
     "data": {
      "text/html": [
       "<div>\n",
       "<style scoped>\n",
       "    .dataframe tbody tr th:only-of-type {\n",
       "        vertical-align: middle;\n",
       "    }\n",
       "\n",
       "    .dataframe tbody tr th {\n",
       "        vertical-align: top;\n",
       "    }\n",
       "\n",
       "    .dataframe thead th {\n",
       "        text-align: right;\n",
       "    }\n",
       "</style>\n",
       "<table border=\"1\" class=\"dataframe\">\n",
       "  <thead>\n",
       "    <tr style=\"text-align: right;\">\n",
       "      <th></th>\n",
       "      <th>Unnamed: 0</th>\n",
       "      <th>Id</th>\n",
       "      <th>Title</th>\n",
       "      <th>User_id</th>\n",
       "      <th>review/helpfulness</th>\n",
       "      <th>review/score</th>\n",
       "      <th>review/time</th>\n",
       "      <th>review/summary</th>\n",
       "      <th>review/text</th>\n",
       "      <th>description</th>\n",
       "      <th>authors</th>\n",
       "      <th>publisher</th>\n",
       "      <th>publishedDate</th>\n",
       "      <th>categories</th>\n",
       "      <th>ratingsCount</th>\n",
       "      <th>compound</th>\n",
       "      <th>Sentiment</th>\n",
       "    </tr>\n",
       "  </thead>\n",
       "  <tbody>\n",
       "    <tr>\n",
       "      <th>0</th>\n",
       "      <td>0</td>\n",
       "      <td>1882931173</td>\n",
       "      <td>Its Only Art If Its Well Hung!</td>\n",
       "      <td>AVCGYZL8FQQTD</td>\n",
       "      <td>7/7</td>\n",
       "      <td>4.0</td>\n",
       "      <td>940636800</td>\n",
       "      <td>Nice collection of Julie Strain images</td>\n",
       "      <td>This is only for Julie Strain fans. It's a col...</td>\n",
       "      <td>NaN</td>\n",
       "      <td>['Julie Strain']</td>\n",
       "      <td>NaN</td>\n",
       "      <td>1996</td>\n",
       "      <td>['Comics &amp; Graphic Novels']</td>\n",
       "      <td>2.0</td>\n",
       "      <td>0.9408</td>\n",
       "      <td>positive</td>\n",
       "    </tr>\n",
       "    <tr>\n",
       "      <th>1</th>\n",
       "      <td>1</td>\n",
       "      <td>0826414346</td>\n",
       "      <td>Dr. Seuss: American Icon</td>\n",
       "      <td>A30TK6U7DNS82R</td>\n",
       "      <td>10/10</td>\n",
       "      <td>5.0</td>\n",
       "      <td>1095724800</td>\n",
       "      <td>Really Enjoyed It</td>\n",
       "      <td>I don't care much for Dr. Seuss but after read...</td>\n",
       "      <td>Philip Nel takes a fascinating look into the k...</td>\n",
       "      <td>['Philip Nel']</td>\n",
       "      <td>A&amp;C Black</td>\n",
       "      <td>2005-01-01</td>\n",
       "      <td>['Biography &amp; Autobiography']</td>\n",
       "      <td>2.0</td>\n",
       "      <td>0.9876</td>\n",
       "      <td>positive</td>\n",
       "    </tr>\n",
       "    <tr>\n",
       "      <th>2</th>\n",
       "      <td>2</td>\n",
       "      <td>0826414346</td>\n",
       "      <td>Dr. Seuss: American Icon</td>\n",
       "      <td>A3UH4UZ4RSVO82</td>\n",
       "      <td>10/11</td>\n",
       "      <td>5.0</td>\n",
       "      <td>1078790400</td>\n",
       "      <td>Essential for every personal and Public Library</td>\n",
       "      <td>If people become the books they read and if \"t...</td>\n",
       "      <td>Philip Nel takes a fascinating look into the k...</td>\n",
       "      <td>['Philip Nel']</td>\n",
       "      <td>A&amp;C Black</td>\n",
       "      <td>2005-01-01</td>\n",
       "      <td>['Biography &amp; Autobiography']</td>\n",
       "      <td>2.0</td>\n",
       "      <td>0.9932</td>\n",
       "      <td>positive</td>\n",
       "    </tr>\n",
       "    <tr>\n",
       "      <th>3</th>\n",
       "      <td>3</td>\n",
       "      <td>0826414346</td>\n",
       "      <td>Dr. Seuss: American Icon</td>\n",
       "      <td>A2MVUWT453QH61</td>\n",
       "      <td>7/7</td>\n",
       "      <td>4.0</td>\n",
       "      <td>1090713600</td>\n",
       "      <td>Phlip Nel gives silly Seuss a serious treatment</td>\n",
       "      <td>Theodore Seuss Geisel (1904-1991), aka &amp;quot;D...</td>\n",
       "      <td>Philip Nel takes a fascinating look into the k...</td>\n",
       "      <td>['Philip Nel']</td>\n",
       "      <td>A&amp;C Black</td>\n",
       "      <td>2005-01-01</td>\n",
       "      <td>['Biography &amp; Autobiography']</td>\n",
       "      <td>2.0</td>\n",
       "      <td>0.9782</td>\n",
       "      <td>positive</td>\n",
       "    </tr>\n",
       "    <tr>\n",
       "      <th>4</th>\n",
       "      <td>4</td>\n",
       "      <td>0826414346</td>\n",
       "      <td>Dr. Seuss: American Icon</td>\n",
       "      <td>A22X4XUPKF66MR</td>\n",
       "      <td>3/3</td>\n",
       "      <td>4.0</td>\n",
       "      <td>1107993600</td>\n",
       "      <td>Good academic overview</td>\n",
       "      <td>Philip Nel - Dr. Seuss: American IconThis is b...</td>\n",
       "      <td>Philip Nel takes a fascinating look into the k...</td>\n",
       "      <td>['Philip Nel']</td>\n",
       "      <td>A&amp;C Black</td>\n",
       "      <td>2005-01-01</td>\n",
       "      <td>['Biography &amp; Autobiography']</td>\n",
       "      <td>2.0</td>\n",
       "      <td>0.9604</td>\n",
       "      <td>positive</td>\n",
       "    </tr>\n",
       "  </tbody>\n",
       "</table>\n",
       "</div>"
      ],
      "text/plain": [
       "   Unnamed: 0          Id                           Title         User_id  \\\n",
       "0           0  1882931173  Its Only Art If Its Well Hung!   AVCGYZL8FQQTD   \n",
       "1           1  0826414346        Dr. Seuss: American Icon  A30TK6U7DNS82R   \n",
       "2           2  0826414346        Dr. Seuss: American Icon  A3UH4UZ4RSVO82   \n",
       "3           3  0826414346        Dr. Seuss: American Icon  A2MVUWT453QH61   \n",
       "4           4  0826414346        Dr. Seuss: American Icon  A22X4XUPKF66MR   \n",
       "\n",
       "  review/helpfulness  review/score  review/time  \\\n",
       "0                7/7           4.0    940636800   \n",
       "1              10/10           5.0   1095724800   \n",
       "2              10/11           5.0   1078790400   \n",
       "3                7/7           4.0   1090713600   \n",
       "4                3/3           4.0   1107993600   \n",
       "\n",
       "                                    review/summary  \\\n",
       "0           Nice collection of Julie Strain images   \n",
       "1                                Really Enjoyed It   \n",
       "2  Essential for every personal and Public Library   \n",
       "3  Phlip Nel gives silly Seuss a serious treatment   \n",
       "4                           Good academic overview   \n",
       "\n",
       "                                         review/text  \\\n",
       "0  This is only for Julie Strain fans. It's a col...   \n",
       "1  I don't care much for Dr. Seuss but after read...   \n",
       "2  If people become the books they read and if \"t...   \n",
       "3  Theodore Seuss Geisel (1904-1991), aka &quot;D...   \n",
       "4  Philip Nel - Dr. Seuss: American IconThis is b...   \n",
       "\n",
       "                                         description           authors  \\\n",
       "0                                                NaN  ['Julie Strain']   \n",
       "1  Philip Nel takes a fascinating look into the k...    ['Philip Nel']   \n",
       "2  Philip Nel takes a fascinating look into the k...    ['Philip Nel']   \n",
       "3  Philip Nel takes a fascinating look into the k...    ['Philip Nel']   \n",
       "4  Philip Nel takes a fascinating look into the k...    ['Philip Nel']   \n",
       "\n",
       "   publisher publishedDate                     categories  ratingsCount  \\\n",
       "0        NaN          1996    ['Comics & Graphic Novels']           2.0   \n",
       "1  A&C Black    2005-01-01  ['Biography & Autobiography']           2.0   \n",
       "2  A&C Black    2005-01-01  ['Biography & Autobiography']           2.0   \n",
       "3  A&C Black    2005-01-01  ['Biography & Autobiography']           2.0   \n",
       "4  A&C Black    2005-01-01  ['Biography & Autobiography']           2.0   \n",
       "\n",
       "   compound Sentiment  \n",
       "0    0.9408  positive  \n",
       "1    0.9876  positive  \n",
       "2    0.9932  positive  \n",
       "3    0.9782  positive  \n",
       "4    0.9604  positive  "
      ]
     },
     "execution_count": 3,
     "metadata": {},
     "output_type": "execute_result"
    }
   ],
   "source": [
    "df.head()"
   ]
  },
  {
   "cell_type": "markdown",
   "id": "39b5f84e",
   "metadata": {},
   "source": [
    "## Data Cleaning\n",
    "\n",
    "- Dropping the rows with NULL entries in any one the three book attributes chosen for providing recommendations."
   ]
  },
  {
   "cell_type": "code",
   "execution_count": 4,
   "id": "970c5025",
   "metadata": {},
   "outputs": [],
   "source": [
    "df = df.dropna(subset=['categories', 'authors', 'Title'])"
   ]
  },
  {
   "cell_type": "code",
   "execution_count": 5,
   "id": "99b28d5c",
   "metadata": {},
   "outputs": [],
   "source": [
    "columns = df['categories'] + \" \" + df['authors'] + \" \" + df['Title']"
   ]
  },
  {
   "cell_type": "markdown",
   "id": "c2bd4294",
   "metadata": {},
   "source": [
    "## TF-IDF Vectorization\n",
    "\n",
    "- Using the TF-IDF Vectorizer to convert the combined text data into a matrix of TFIDF features."
   ]
  },
  {
   "cell_type": "code",
   "execution_count": 6,
   "id": "7ab35771",
   "metadata": {},
   "outputs": [],
   "source": [
    "from sklearn.feature_extraction.text import TfidfVectorizer\n",
    "vectorizer = TfidfVectorizer(stop_words = 'english')\n",
    "tf_idf_matrix = vectorizer.fit_transform(columns)"
   ]
  },
  {
   "cell_type": "code",
   "execution_count": 7,
   "id": "5029fdb2",
   "metadata": {},
   "outputs": [
    {
     "name": "stdout",
     "output_type": "stream",
     "text": [
      "(1951308, 114930)\n"
     ]
    }
   ],
   "source": [
    "print(tf_idf_matrix.shape)"
   ]
  },
  {
   "cell_type": "markdown",
   "id": "e5c952ed",
   "metadata": {},
   "source": [
    "## Dimensionality Reduction - SVD\n",
    "\n",
    "- Employing Singular Value Decomposition (SVD) for reducing the number of features for each textual entry down to the 100 most useful ones.\n",
    "- Converting each element of the SVD matrix into float32 for easy processing with Cosine Similarity calculations."
   ]
  },
  {
   "cell_type": "code",
   "execution_count": 8,
   "id": "482807dc",
   "metadata": {},
   "outputs": [],
   "source": [
    "from sklearn.decomposition import TruncatedSVD"
   ]
  },
  {
   "cell_type": "code",
   "execution_count": 9,
   "id": "41fc2e45",
   "metadata": {},
   "outputs": [],
   "source": [
    "svd = TruncatedSVD(n_components = 100)\n",
    "svd_matrix = svd.fit_transform(tf_idf_matrix)"
   ]
  },
  {
   "cell_type": "code",
   "execution_count": 10,
   "id": "95917291",
   "metadata": {},
   "outputs": [
    {
     "name": "stdout",
     "output_type": "stream",
     "text": [
      "(1951308, 100)\n"
     ]
    }
   ],
   "source": [
    "print(svd_matrix.shape)"
   ]
  },
  {
   "cell_type": "code",
   "execution_count": 11,
   "id": "e863eff6",
   "metadata": {},
   "outputs": [],
   "source": [
    "import numpy as np\n",
    "svd_matrix = svd_matrix.astype(np.float32)"
   ]
  },
  {
   "cell_type": "markdown",
   "id": "3a73b7f4",
   "metadata": {},
   "source": [
    "## Cosine Similarity\n",
    "\n",
    "- Calculating the cosine similarity between all pairs of books based on their numerical feature vectors (obtained from TFIDF and then SVD).\n",
    "- Because of the enormous size of the dataset, computing the cosine similarity matrix on all the books in the dataset throws a Memory Limit Exceeded error. \n",
    "- Therefore, 1% of the books are sampled from the dataset randomly, and used for the generation of the cosine similarity matrix."
   ]
  },
  {
   "cell_type": "code",
   "execution_count": 12,
   "id": "759fa7aa",
   "metadata": {},
   "outputs": [],
   "source": [
    "from sklearn.metrics.pairwise import cosine_similarity"
   ]
  },
  {
   "cell_type": "code",
   "execution_count": 13,
   "id": "81c12b9d",
   "metadata": {},
   "outputs": [],
   "source": [
    "n_rows = svd_matrix.shape[0]\n",
    "sample_size = int(0.01*n_rows)\n",
    "random_indices = np.random.choice(n_rows, size=sample_size, replace=False)\n",
    "sampled_svd_matrix = svd_matrix[random_indices, :]"
   ]
  },
  {
   "cell_type": "code",
   "execution_count": 14,
   "id": "ce13e643",
   "metadata": {},
   "outputs": [],
   "source": [
    "cosine_sim = cosine_similarity(sampled_svd_matrix)"
   ]
  },
  {
   "cell_type": "markdown",
   "id": "dd615c57",
   "metadata": {},
   "source": [
    "## Book Recommendations\n",
    "- Using the Cosine Similarity matrix, the function takes the Title of a book as input, and outputs a list of the most similar books based on the cosine similarity scores.\n",
    "- The idea here is that books that are similar to each other, based on the book attributes ('Title', 'authors', and 'categories') have higher cosine similarity scores.\n",
    "- Cosine Similarity can capture more nuanced similarities based on the combination of terms used in books' titles, categories etc.\n",
    "- Therefore, the cosine similarity matrix quantifies the similarity between all pairs of books in the dataset. This matrix enables to recommend books that are content-wise similar to a particular book."
   ]
  },
  {
   "cell_type": "code",
   "execution_count": 40,
   "id": "53b72a54",
   "metadata": {},
   "outputs": [],
   "source": [
    "def recommend_books(title, cosine_sim = cosine_sim):\n",
    "    book_index = df.loc[df['Title'] == title].index[0]\n",
    "    sim_scores = list(enumerate(cosine_sim[book_index]))\n",
    "    sim_scores = sorted(sim_scores, key=lambda x: x[1], reverse=True)\n",
    "    books_recommended = []\n",
    "    book_indices = []\n",
    "    \n",
    "    for sim in sim_scores:\n",
    "        if sim[0] != book_index and sim[0] not in book_indices and df['Title'].iloc[sim[0]] not in books_recommended:\n",
    "            book_indices.append(sim[0])\n",
    "            books_recommended.append(df['Title'].iloc[sim[0]])\n",
    "            if len(book_indices) == 10: \n",
    "                break\n",
    "                \n",
    "    return df['Title'].iloc[book_indices]"
   ]
  },
  {
   "cell_type": "code",
   "execution_count": 41,
   "id": "073b81fc",
   "metadata": {},
   "outputs": [
    {
     "name": "stdout",
     "output_type": "stream",
     "text": [
      "Top 10 most relevant books are: \n",
      "\n",
      "16620                        One Hundred Years of Solitude\n",
      "4010     Lifetimes: The Beautiful Way to Explain Death ...\n",
      "8783     Text and Thought: An Integrated Approach to Co...\n",
      "11002                            The Clan of the Cave Bear\n",
      "13891                                       Fahrenheit 451\n",
      "9324                                      Forward the Mage\n",
      "19753                        California Real Estate Primer\n",
      "21599                                          Jim the Boy\n",
      "1312                                        Edge of Danger\n",
      "3413                                             Rakaposhi\n",
      "Name: Title, dtype: object\n"
     ]
    }
   ],
   "source": [
    "print('Top 10 most relevant books are: ')\n",
    "print()\n",
    "print(recommend_books('Dr. Seuss: American Icon'))"
   ]
  },
  {
   "cell_type": "code",
   "execution_count": null,
   "id": "40e20a85",
   "metadata": {},
   "outputs": [],
   "source": []
  }
 ],
 "metadata": {
  "kernelspec": {
   "display_name": "Python 3 (ipykernel)",
   "language": "python",
   "name": "python3"
  },
  "language_info": {
   "codemirror_mode": {
    "name": "ipython",
    "version": 3
   },
   "file_extension": ".py",
   "mimetype": "text/x-python",
   "name": "python",
   "nbconvert_exporter": "python",
   "pygments_lexer": "ipython3",
   "version": "3.10.9"
  }
 },
 "nbformat": 4,
 "nbformat_minor": 5
}
