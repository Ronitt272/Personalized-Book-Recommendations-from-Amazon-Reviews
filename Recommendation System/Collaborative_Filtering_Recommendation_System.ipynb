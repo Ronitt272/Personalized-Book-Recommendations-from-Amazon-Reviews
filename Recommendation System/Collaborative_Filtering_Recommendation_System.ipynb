{
  "cells": [
    {
      "cell_type": "code",
      "execution_count": null,
      "id": "b6f514a4",
      "metadata": {
        "scrolled": true,
        "id": "b6f514a4"
      },
      "outputs": [],
      "source": [
        "import torch\n",
        "import torch.nn as nn\n",
        "import torch.optim as optim\n",
        "import torch.nn.functional as F\n",
        "from torch.utils.data import DataLoader, TensorDataset\n",
        "from sklearn.model_selection import train_test_split\n",
        "from sklearn.metrics import accuracy_score\n",
        "import pandas as pd\n",
        "from tqdm.notebook import tqdm\n",
        "import re\n",
        "import ast\n",
        "from scipy.sparse import dok_matrix, csr_matrix\n",
        "from sklearn.metrics.pairwise import cosine_similarity\n",
        "from scipy.sparse import lil_matrix\n",
        "from sklearn.decomposition import TruncatedSVD\n",
        "import nmslib\n",
        "import numpy as np"
      ]
    },
    {
      "cell_type": "code",
      "execution_count": null,
      "id": "d0142144",
      "metadata": {
        "id": "d0142144"
      },
      "outputs": [],
      "source": [
        "merged_df = pd.read_csv('final_data.csv', index_col=0)"
      ]
    },
    {
      "cell_type": "markdown",
      "id": "5072ce71",
      "metadata": {
        "id": "5072ce71"
      },
      "source": [
        "# Collaborative Filtering Recommendation System"
      ]
    },
    {
      "cell_type": "markdown",
      "id": "a4c48579",
      "metadata": {
        "id": "a4c48579"
      },
      "source": [
        "## Approach 1"
      ]
    },
    {
      "cell_type": "markdown",
      "id": "e92afe2f",
      "metadata": {
        "id": "e92afe2f"
      },
      "source": [
        "The dataset encompasses user reviews and ratings of a wide range of titles. From these reviews, key keywords are extracted to define user similarity. Subsequently, dimensionality reduction techniques are applied to the matrix of users and keywords, effectively compressing the user-item interaction space. This process is conducted with precision to retain the core aspects of user preferences. Within this reduced space, nearest neighbors are determined through cosine similarity. Ultimately, only those titles with a review score exceeding 3.5 are recommended, ensuring a focus on quality in the suggestions provided to the users."
      ]
    },
    {
      "cell_type": "raw",
      "id": "a2b6bb43",
      "metadata": {
        "id": "a2b6bb43"
      },
      "source": [
        "import nltk\n",
        "from nltk.corpus import stopwords\n",
        "from nltk.tokenize import word_tokenize\n",
        "from nltk.stem import PorterStemmer\n",
        "import pandas as pd\n",
        "\n",
        "# Ensure that necessary nltk resources are downloaded\n",
        "nltk.download('punkt')\n",
        "nltk.download('stopwords')\n",
        "\n",
        "# Function to process text and extract keywords\n",
        "def extract_keywords(text):\n",
        "    # Tokenize the title\n",
        "    tokens = word_tokenize(text)\n",
        "    # Convert to lower case\n",
        "    tokens = [word.lower() for word in tokens]\n",
        "    # Remove stopwords and any tokens that aren't alphabetic\n",
        "    words = [word for word in tokens if word.isalpha() and word not in stopwords.words('english')]\n",
        "    # Optionally, you could also use stemming or lemmatization\n",
        "    stemmer = PorterStemmer()\n",
        "    stemmed = [stemmer.stem(word) for word in words]\n",
        "    return stemmed\n",
        "\n",
        "# Apply keyword extraction to the titles in the dataframe\n",
        "merged_df['keywords'] = merged_df['Title'].apply(extract_keywords)\n",
        "\n",
        "# Explore the keywords\n",
        "print(merged_df[['Title', 'keywords']].head())"
      ]
    },
    {
      "cell_type": "raw",
      "id": "7872f2f2",
      "metadata": {
        "id": "7872f2f2"
      },
      "source": [
        "# Aggregate keywords by user\n",
        "user_keywords = merged_df.groupby('User_id')['keywords'].agg(sum).reset_index()"
      ]
    },
    {
      "cell_type": "raw",
      "id": "fa0cfd03",
      "metadata": {
        "id": "fa0cfd03"
      },
      "source": [
        "def filter_keywords(keywords):\n",
        "    unique_keywords = list(dict.fromkeys(keywords))\n",
        "    return unique_keywords[:7]\n",
        "\n",
        "user_keywords['keywords'] = user_keywords['keywords'].apply(filter_keywords)\n",
        "print(user_keywords)"
      ]
    },
    {
      "cell_type": "raw",
      "id": "872b3c52",
      "metadata": {
        "id": "872b3c52"
      },
      "source": [
        "csv_path = 'user_keywords.csv'\n",
        "user_keywords.to_csv(csv_path, index=False)"
      ]
    },
    {
      "cell_type": "code",
      "execution_count": null,
      "id": "394e110c",
      "metadata": {
        "id": "394e110c",
        "outputId": "7b9ed9e4-e54d-4a47-da05-332f08fc5a5f"
      },
      "outputs": [
        {
          "data": {
            "text/html": [
              "<div>\n",
              "<style scoped>\n",
              "    .dataframe tbody tr th:only-of-type {\n",
              "        vertical-align: middle;\n",
              "    }\n",
              "\n",
              "    .dataframe tbody tr th {\n",
              "        vertical-align: top;\n",
              "    }\n",
              "\n",
              "    .dataframe thead th {\n",
              "        text-align: right;\n",
              "    }\n",
              "</style>\n",
              "<table border=\"1\" class=\"dataframe\">\n",
              "  <thead>\n",
              "    <tr style=\"text-align: right;\">\n",
              "      <th></th>\n",
              "      <th>User_id</th>\n",
              "      <th>keywords</th>\n",
              "    </tr>\n",
              "  </thead>\n",
              "  <tbody>\n",
              "    <tr>\n",
              "      <th>0</th>\n",
              "      <td>A00109803PZJ91RLT7DPN</td>\n",
              "      <td>['calder', 'rang', 'saga']</td>\n",
              "    </tr>\n",
              "    <tr>\n",
              "      <th>1</th>\n",
              "      <td>A00117421L76WVWG4UX95</td>\n",
              "      <td>['queen', 'harlem', 'novel']</td>\n",
              "    </tr>\n",
              "    <tr>\n",
              "      <th>2</th>\n",
              "      <td>A0015610VMNR0JC9XVL1</td>\n",
              "      <td>['richest', 'man', 'babylon', 'babylonian', 'p...</td>\n",
              "    </tr>\n",
              "    <tr>\n",
              "      <th>3</th>\n",
              "      <td>A002258237PFYJV336T05</td>\n",
              "      <td>['swan', 'place']</td>\n",
              "    </tr>\n",
              "    <tr>\n",
              "      <th>4</th>\n",
              "      <td>A00264602WCXBHHFPLTQ4</td>\n",
              "      <td>['berenstain', 'bear', 'much', 'vacat']</td>\n",
              "    </tr>\n",
              "  </tbody>\n",
              "</table>\n",
              "</div>"
            ],
            "text/plain": [
              "                 User_id                                           keywords\n",
              "0  A00109803PZJ91RLT7DPN                         ['calder', 'rang', 'saga']\n",
              "1  A00117421L76WVWG4UX95                       ['queen', 'harlem', 'novel']\n",
              "2   A0015610VMNR0JC9XVL1  ['richest', 'man', 'babylon', 'babylonian', 'p...\n",
              "3  A002258237PFYJV336T05                                  ['swan', 'place']\n",
              "4  A00264602WCXBHHFPLTQ4            ['berenstain', 'bear', 'much', 'vacat']"
            ]
          },
          "execution_count": 3,
          "metadata": {},
          "output_type": "execute_result"
        }
      ],
      "source": [
        "# Read the saved CSV file\n",
        "csv_path = 'user_keywords.csv'\n",
        "read_keywords = pd.read_csv(csv_path)\n",
        "read_keywords.head(5)"
      ]
    },
    {
      "cell_type": "code",
      "execution_count": null,
      "id": "b6f769fd",
      "metadata": {
        "id": "b6f769fd"
      },
      "outputs": [],
      "source": [
        "read_keywords['keywords'] = read_keywords['keywords'].apply(ast.literal_eval)\n",
        "all_keywords = set(keyword for keywords_list in read_keywords['keywords'] for keyword in keywords_list)\n",
        "user_to_index = {user_id: i for i, user_id in enumerate(read_keywords['User_id'].unique())}\n",
        "keyword_to_index = {keyword: i for i, keyword in enumerate(all_keywords)}\n",
        "binary_matrix = lil_matrix((len(user_to_index), len(keyword_to_index)), dtype=int)\n",
        "\n",
        "for _, row in read_keywords.iterrows():\n",
        "    user_idx = user_to_index[row['User_id']]\n",
        "    for keyword in row['keywords']:\n",
        "        keyword_idx = keyword_to_index[keyword]\n",
        "        binary_matrix[user_idx, keyword_idx] = 1\n",
        "\n",
        "binary_matrix_csr = binary_matrix.tocsr()\n",
        "svd = TruncatedSVD(n_components=100)\n",
        "reduced_matrix = svd.fit_transform(binary_matrix_csr)"
      ]
    },
    {
      "cell_type": "code",
      "execution_count": null,
      "id": "33ff48fc",
      "metadata": {
        "id": "33ff48fc",
        "outputId": "40fb2a03-b3c8-4044-fed9-eb463764ad75"
      },
      "outputs": [
        {
          "data": {
            "text/plain": [
              "(1008961, 100)"
            ]
          },
          "execution_count": 5,
          "metadata": {},
          "output_type": "execute_result"
        }
      ],
      "source": [
        "reduced_matrix.shape"
      ]
    },
    {
      "cell_type": "code",
      "execution_count": null,
      "id": "6bd6a93c",
      "metadata": {
        "id": "6bd6a93c",
        "outputId": "9f8a823d-a42b-4792-f738-d0a0da743b03"
      },
      "outputs": [
        {
          "data": {
            "text/plain": [
              "array([[ 4.77838804e-03,  3.73991940e-05,  5.46856952e-04, ...,\n",
              "        -9.60583957e-03, -1.86519052e-03, -2.68493460e-04],\n",
              "       [ 4.46301998e-02,  5.75956629e-02,  9.29968519e-02, ...,\n",
              "         6.96698932e-03, -5.53384913e-05, -3.73734952e-03],\n",
              "       [ 2.57221649e-02,  3.96952101e-02,  4.78884723e-03, ...,\n",
              "        -4.12892741e-02, -9.69739300e-02, -3.77882021e-02],\n",
              "       ...,\n",
              "       [ 9.79402716e-02,  2.81335410e-02,  3.26817536e-02, ...,\n",
              "         5.02869198e-02, -1.27994348e-02,  3.88027999e-02],\n",
              "       [ 0.00000000e+00,  0.00000000e+00,  0.00000000e+00, ...,\n",
              "         0.00000000e+00,  0.00000000e+00,  0.00000000e+00],\n",
              "       [ 1.07813665e-01,  8.44295607e-01, -5.02445349e-01, ...,\n",
              "         7.86021307e-02,  1.37227970e-01,  4.16715120e-03]])"
            ]
          },
          "execution_count": 6,
          "metadata": {},
          "output_type": "execute_result"
        }
      ],
      "source": [
        "reduced_matrix"
      ]
    },
    {
      "cell_type": "code",
      "execution_count": null,
      "id": "28d92ab8",
      "metadata": {
        "id": "28d92ab8",
        "outputId": "9f509676-16fe-4923-a329-969209b34174"
      },
      "outputs": [
        {
          "name": "stderr",
          "output_type": "stream",
          "text": [
            "\n",
            "0%   10   20   30   40   50   60   70   80   90   100%\n",
            "|----|----|----|----|----|----|----|----|----|----|\n",
            "***************************************************\n",
            "\n",
            "0%   10   20   30   40   50   60   70   80   90   100%\n",
            "|----|----|----|----|----|----|----|----|----|----|\n",
            "***************************************************"
          ]
        }
      ],
      "source": [
        "# Initialize a new index, specifying the metric as cosine similarity\n",
        "index = nmslib.init(method='hnsw', space='cosinesimil')\n",
        "\n",
        "# Add all vectors to the index\n",
        "index.addDataPointBatch(reduced_matrix)\n",
        "\n",
        "# Create the index\n",
        "index.createIndex({'post': 2}, print_progress=True)\n",
        "\n",
        "# Query the index for nearest neighbors\n",
        "ids, distances = index.knnQuery(reduced_matrix[0], k=10)  # Example: Find 10 nearest neighbors for the first user\n"
      ]
    },
    {
      "cell_type": "code",
      "execution_count": null,
      "id": "58aa9bef",
      "metadata": {
        "id": "58aa9bef",
        "outputId": "13a4718e-1a7c-44c8-fa4c-726bd62445a5"
      },
      "outputs": [
        {
          "name": "stderr",
          "output_type": "stream",
          "text": [
            "\n",
            "0%   10   20   30   40   50   60   70   80   90   100%\n",
            "|----|----|----|----|----|----|----|----|----|----|\n",
            "***************************************************\n",
            "\n",
            "0%   10   20   30   40   50   60   70   80   90   100%\n",
            "|----|----|----|----|----|----|----|----|----|----|\n",
            "****************************************************\n"
          ]
        }
      ],
      "source": [
        "index.createIndex({'post': 2}, print_progress=True)\n",
        "\n",
        "# Function to query nearest neighbors for each user\n",
        "def query_all_neighbors(reduced_matrix, index, num_neighbors=10):\n",
        "    neighbor_ids = []\n",
        "    neighbor_distances = []\n",
        "\n",
        "    # Query the index for each user in the reduced matrix\n",
        "    for i in range(reduced_matrix.shape[0]):\n",
        "        ids, distances = index.knnQuery(reduced_matrix[i], k=num_neighbors)\n",
        "        neighbor_ids.append(ids)\n",
        "        neighbor_distances.append(distances)\n",
        "\n",
        "    return neighbor_ids, neighbor_distances\n",
        "\n",
        "# Get all neighbor IDs and their distances\n",
        "all_neighbor_ids, all_neighbor_distances = query_all_neighbors(reduced_matrix, index, num_neighbors=10)\n"
      ]
    },
    {
      "cell_type": "code",
      "execution_count": null,
      "id": "fb0a5620",
      "metadata": {
        "id": "fb0a5620"
      },
      "outputs": [],
      "source": [
        "target_user_index = user_to_index['AVCGYZL8FQQTD']  # Replace with the actual target user_id\n",
        "target_user_vector = reduced_matrix[target_user_index]\n",
        "\n",
        "# Query for nearest neighbors of the target user\n",
        "ids, distances = index.knnQuery(target_user_vector, k=10)"
      ]
    },
    {
      "cell_type": "code",
      "execution_count": null,
      "id": "9a5808cd",
      "metadata": {
        "id": "9a5808cd"
      },
      "outputs": [],
      "source": [
        "def get_neighbor_titles(user_id, neighbor_ids, df):\n",
        "    # Get the titles and scores for the target user\n",
        "    user_titles = set(df[df['User_id'] == user_id]['Title'])\n",
        "\n",
        "    # Get the titles and scores for the neighbors\n",
        "    neighbor_interactions = df[df['User_id'].isin(neighbor_ids)]\n",
        "\n",
        "    # Filter for titles with a review score greater than 4\n",
        "    high_score_titles = neighbor_interactions[neighbor_interactions['review/score'] > 3.5]['Title'].unique()\n",
        "\n",
        "    # Recommend titles that neighbors rated highly and the user has not interacted with\n",
        "    recommended_titles = set(high_score_titles) - user_titles\n",
        "\n",
        "    return list(recommended_titles)"
      ]
    },
    {
      "cell_type": "code",
      "execution_count": null,
      "id": "9d5e5bb7",
      "metadata": {
        "id": "9d5e5bb7"
      },
      "outputs": [],
      "source": [
        "index_to_user = {idx: user_id for user_id, idx in user_to_index.items()}\n",
        "neighbor_user_ids = [index_to_user[id] for id in ids]\n",
        "recommended_titles = get_neighbor_titles('AVCGYZL8FQQTD', neighbor_user_ids, merged_df)"
      ]
    },
    {
      "cell_type": "code",
      "execution_count": null,
      "id": "675fed18",
      "metadata": {
        "id": "675fed18"
      },
      "outputs": [],
      "source": [
        "def rank_titles(titles, interactions_df):\n",
        "    title_scores = interactions_df[interactions_df['Title'].isin(titles)].groupby('Title')['review/score'].mean()\n",
        "    # Sort the titles based on the average score in descending order\n",
        "    ranked_titles = title_scores.sort_values(ascending=False).index.tolist()\n",
        "    return ranked_titles"
      ]
    },
    {
      "cell_type": "code",
      "execution_count": null,
      "id": "37140ead",
      "metadata": {
        "id": "37140ead",
        "outputId": "8112770a-a717-401f-90fa-3c6e5eece70b"
      },
      "outputs": [
        {
          "data": {
            "text/html": [
              "<div>\n",
              "<style scoped>\n",
              "    .dataframe tbody tr th:only-of-type {\n",
              "        vertical-align: middle;\n",
              "    }\n",
              "\n",
              "    .dataframe tbody tr th {\n",
              "        vertical-align: top;\n",
              "    }\n",
              "\n",
              "    .dataframe thead th {\n",
              "        text-align: right;\n",
              "    }\n",
              "</style>\n",
              "<table border=\"1\" class=\"dataframe\">\n",
              "  <thead>\n",
              "    <tr style=\"text-align: right;\">\n",
              "      <th></th>\n",
              "      <th>Id</th>\n",
              "      <th>Title</th>\n",
              "      <th>User_id</th>\n",
              "      <th>review/helpfulness</th>\n",
              "      <th>review/score</th>\n",
              "      <th>review/time</th>\n",
              "      <th>review/summary</th>\n",
              "      <th>review/text</th>\n",
              "      <th>description</th>\n",
              "      <th>authors</th>\n",
              "      <th>publisher</th>\n",
              "      <th>publishedDate</th>\n",
              "      <th>categories</th>\n",
              "      <th>ratingsCount</th>\n",
              "      <th>compound</th>\n",
              "      <th>Sentiment</th>\n",
              "    </tr>\n",
              "  </thead>\n",
              "  <tbody>\n",
              "    <tr>\n",
              "      <th>0</th>\n",
              "      <td>1882931173</td>\n",
              "      <td>Its Only Art If Its Well Hung!</td>\n",
              "      <td>AVCGYZL8FQQTD</td>\n",
              "      <td>7/7</td>\n",
              "      <td>4.0</td>\n",
              "      <td>940636800</td>\n",
              "      <td>Nice collection of Julie Strain images</td>\n",
              "      <td>This is only for Julie Strain fans. It's a col...</td>\n",
              "      <td>NaN</td>\n",
              "      <td>['Julie Strain']</td>\n",
              "      <td>NaN</td>\n",
              "      <td>1996</td>\n",
              "      <td>['Comics &amp; Graphic Novels']</td>\n",
              "      <td>2.0</td>\n",
              "      <td>0.9408</td>\n",
              "      <td>positive</td>\n",
              "    </tr>\n",
              "  </tbody>\n",
              "</table>\n",
              "</div>"
            ],
            "text/plain": [
              "           Id                           Title        User_id  \\\n",
              "0  1882931173  Its Only Art If Its Well Hung!  AVCGYZL8FQQTD   \n",
              "\n",
              "  review/helpfulness  review/score  review/time  \\\n",
              "0                7/7           4.0    940636800   \n",
              "\n",
              "                           review/summary  \\\n",
              "0  Nice collection of Julie Strain images   \n",
              "\n",
              "                                         review/text description  \\\n",
              "0  This is only for Julie Strain fans. It's a col...         NaN   \n",
              "\n",
              "            authors publisher publishedDate                   categories  \\\n",
              "0  ['Julie Strain']       NaN          1996  ['Comics & Graphic Novels']   \n",
              "\n",
              "   ratingsCount  compound Sentiment  \n",
              "0           2.0    0.9408  positive  "
            ]
          },
          "execution_count": 13,
          "metadata": {},
          "output_type": "execute_result"
        }
      ],
      "source": [
        "merged_df.head(1)"
      ]
    },
    {
      "cell_type": "code",
      "execution_count": null,
      "id": "c513e19e",
      "metadata": {
        "id": "c513e19e",
        "outputId": "9805392f-97a3-479f-eb42-8d8e06d22232"
      },
      "outputs": [
        {
          "data": {
            "text/plain": [
              "'Its Only Art If Its Well Hung!'"
            ]
          },
          "execution_count": 14,
          "metadata": {},
          "output_type": "execute_result"
        }
      ],
      "source": [
        "merged_df[merged_df['User_id'] == 'AVCGYZL8FQQTD'].Title[0]"
      ]
    },
    {
      "cell_type": "code",
      "execution_count": null,
      "id": "53ca11b1",
      "metadata": {
        "id": "53ca11b1",
        "outputId": "cb9044f4-2d6d-4237-8484-0a8fbe49b23d"
      },
      "outputs": [
        {
          "name": "stdout",
          "output_type": "stream",
          "text": [
            "Top 10 Recommendations:\n",
            "TOP 1: Shadows of the Neanderthal: Illuminating the Beliefs that Limit Our Organizations\n",
            "TOP 2: Adobe(R) Photoshop(R) 7 One Click Wow!\n",
            "TOP 3: Out of One Eye: The Art of Kit Williams\n",
            "TOP 4: The Art of Photoshop\n",
            "TOP 5: One Flew Over the Cuckoo's Nest\n",
            "TOP 6: The Speed of Trust: the One Thing That Changes Everything\n",
            "TOP 7: The Art of Auto-fellatio: Oral Sex for One\n",
            "TOP 8: Zen And The Art of Motorcycle Maintenance\n",
            "TOP 9: Zen and the Art of Motorcycle Maintenance : An Inquiry Into Values\n",
            "TOP 10: Zen and the Art of Motorcycle Maintenance\n"
          ]
        }
      ],
      "source": [
        "neighbor_user_ids = [index_to_user[id] for id in ids]\n",
        "recommended_titles = get_neighbor_titles('AVCGYZL8FQQTD', neighbor_user_ids, merged_df)\n",
        "ranked_recommendations = rank_titles(recommended_titles, merged_df)\n",
        "print(\"Top 10 Recommendations:\")\n",
        "for i, title in enumerate(ranked_recommendations[:10], start=1):\n",
        "    print(f\"TOP {i}: {title}\")"
      ]
    },
    {
      "cell_type": "markdown",
      "id": "d6de15d8",
      "metadata": {
        "id": "d6de15d8"
      },
      "source": [
        "# Approach 2"
      ]
    },
    {
      "cell_type": "markdown",
      "id": "56c17a40",
      "metadata": {
        "id": "56c17a40"
      },
      "source": [
        "The recommendation system operates on a dataset of user-item interactions by focusing on user reviews and ratings of various titles. Separate embeddings are created for users and items, allowing the model to learn dense representations of each entity based on interaction data. The embeddings are concatenated and passed through a fully connected hidden layer with nonlinear activation (ReLU), facilitating the capture of complex interactions between user and item features. A linear output layer predicts the rating a user would give to an item, as demonstrated in the forward pass of the model. Additionally, the model supports querying similar items based on their learned embeddings. By computing cosine similarity between item embeddings, the system can suggest items that are contextually similar to a given item, enhancing user discovery and engagement."
      ]
    },
    {
      "cell_type": "markdown",
      "id": "3248a0eb",
      "metadata": {
        "id": "3248a0eb"
      },
      "source": [
        "referenced by https://www.kaggle.com/code/anshkgoyal/book-recommendation-system\n",
        "to learn an effective implementation"
      ]
    },
    {
      "cell_type": "code",
      "execution_count": null,
      "id": "a98dbc5d",
      "metadata": {
        "id": "a98dbc5d"
      },
      "outputs": [],
      "source": [
        "user_ids = merged_df['User_id'].unique()\n",
        "item_ids = merged_df['Title'].unique()\n",
        "user_to_index = {user_id: idx for idx, user_id in enumerate(user_ids)}\n",
        "item_to_index = {item_id: idx for idx, item_id in enumerate(item_ids)}\n",
        "index_to_title = {idx: title for title, idx in item_to_index.items()}\n",
        "\n",
        "user_indices = torch.tensor([user_to_index[user_id] for user_id in merged_df['User_id']], dtype=torch.long)\n",
        "item_indices = torch.tensor([item_to_index[item_id] for item_id in merged_df['Title']], dtype=torch.long)\n",
        "ratings = torch.tensor(merged_df['review/score'].values, dtype=torch.float32)\n",
        "\n",
        "dataset = TensorDataset(user_indices, item_indices, ratings)\n",
        "dataloader = DataLoader(dataset, batch_size=64, shuffle=True)\n",
        "\n",
        "class CollaborativeFilteringModel(nn.Module):\n",
        "    def __init__(self, num_users, num_items, embedding_dim, hidden_dim):\n",
        "        super().__init__()\n",
        "        self.user_embedding = nn.Embedding(num_users, embedding_dim)\n",
        "        self.item_embedding = nn.Embedding(num_items, embedding_dim)\n",
        "        self.hidden_layer = nn.Linear(embedding_dim * 2, hidden_dim)\n",
        "        self.relu = nn.ReLU()\n",
        "        self.output_layer = nn.Linear(hidden_dim, 1)\n",
        "\n",
        "    def forward(self, user_indices, item_indices):\n",
        "        user_embedded = self.user_embedding(user_indices)\n",
        "        item_embedded = self.item_embedding(item_indices)\n",
        "        concatenated = torch.cat([user_embedded, item_embedded], dim=1)\n",
        "        hidden_output = self.relu(self.hidden_layer(concatenated))\n",
        "        output = self.output_layer(hidden_output)\n",
        "        return output\n",
        "\n",
        "    def get_similar_titles(self, input_title_index, top_k=100):\n",
        "        device = self.item_embedding.weight.device\n",
        "        input_title_index = torch.tensor([input_title_index], device=device)\n",
        "        input_title_embedding = self.item_embedding(input_title_index)\n",
        "        all_title_embeddings = self.item_embedding.weight\n",
        "        similarities = F.cosine_similarity(input_title_embedding, all_title_embeddings)\n",
        "        similar_title_indices = torch.argsort(similarities, descending=True)[:top_k]\n",
        "        similar_titles = [index_to_title[idx.item()] for idx in similar_title_indices]\n",
        "\n",
        "        return similar_titles"
      ]
    },
    {
      "cell_type": "raw",
      "id": "e701c520",
      "metadata": {
        "id": "e701c520"
      },
      "source": [
        "num_users = len(user_ids)\n",
        "num_items = len(item_ids)\n",
        "embedding_dim = 100\n",
        "model = CollaborativeFilteringModel(num_users, num_items, embedding_dim,32)"
      ]
    },
    {
      "cell_type": "raw",
      "id": "1f88923e",
      "metadata": {
        "id": "1f88923e"
      },
      "source": [
        "device = torch.device(\"cuda\" if torch.cuda.is_available() else \"cpu\")\n",
        "model.to(device)\n",
        "criterion = nn.MSELoss()\n",
        "optimizer = optim.Adam(model.parameters(), lr=0.001)\n",
        "\n",
        "epochs = 1\n",
        "total_epochs = 8\n",
        "\n",
        "for epoch in tqdm(range(epochs), desc=\"Training Collaborative Model\"):\n",
        "    model.train()\n",
        "    total_loss = 0.0\n",
        "    for user_batch, item_batch, rating_batch in tqdm(dataloader, desc=f\"Epoch {epoch + 1}/{total_epochs}\"):\n",
        "        user_batch, item_batch, rating_batch = user_batch.to(device), item_batch.to(device), rating_batch.to(device)\n",
        "\n",
        "        optimizer.zero_grad()\n",
        "        predictions = model(user_batch, item_batch).squeeze()\n",
        "        loss = criterion(predictions, rating_batch)\n",
        "        loss.backward()\n",
        "        optimizer.step()\n",
        "\n",
        "        total_loss += loss.item()\n",
        "\n",
        "    average_loss = total_loss / len(dataloader)\n",
        "    print(f'Epoch {epoch + 1}/{total_epochs}, Average Loss: {average_loss:.4f}')"
      ]
    },
    {
      "cell_type": "code",
      "execution_count": null,
      "id": "c16fbff8",
      "metadata": {
        "id": "c16fbff8",
        "outputId": "484e2749-211f-44b2-e2ae-f253b0d9b225"
      },
      "outputs": [
        {
          "data": {
            "text/plain": [
              "CollaborativeFilteringModel(\n",
              "  (user_embedding): Embedding(1008961, 100)\n",
              "  (item_embedding): Embedding(206711, 100)\n",
              "  (hidden_layer): Linear(in_features=200, out_features=32, bias=True)\n",
              "  (relu): ReLU()\n",
              "  (output_layer): Linear(in_features=32, out_features=1, bias=True)\n",
              ")"
            ]
          },
          "execution_count": 17,
          "metadata": {},
          "output_type": "execute_result"
        }
      ],
      "source": [
        "device = torch.device(\"cuda\" if torch.cuda.is_available() else \"cpu\")\n",
        "model_path=\"collaborative_filtering_model.pth\"\n",
        "model = torch.load(model_path, map_location=device)\n",
        "model.to(device)"
      ]
    },
    {
      "cell_type": "code",
      "execution_count": null,
      "id": "859f638a",
      "metadata": {
        "id": "859f638a",
        "outputId": "dda0408a-269b-4e75-db11-6d0bc1936553",
        "colab": {
          "referenced_widgets": [
            "d484caded5ee4404a06ae8d826a8747f"
          ]
        }
      },
      "outputs": [
        {
          "data": {
            "application/vnd.jupyter.widget-view+json": {
              "model_id": "d484caded5ee4404a06ae8d826a8747f",
              "version_major": 2,
              "version_minor": 0
            },
            "text/plain": [
              "Evaluating...:   0%|          | 0/38095 [00:00<?, ?it/s]"
            ]
          },
          "metadata": {},
          "output_type": "display_data"
        },
        {
          "name": "stdout",
          "output_type": "stream",
          "text": [
            "Mean Squared Error: 1.1099\n",
            "Root Mean Squared Error: 1.0535\n"
          ]
        }
      ],
      "source": [
        "model.eval()\n",
        "total_mse = 0.0\n",
        "with torch.inference_mode():\n",
        "    for user_batch, item_batch, rating_batch in tqdm(dataloader, desc=\"Evaluating...\"):\n",
        "        user_batch = user_batch.to(device)\n",
        "        item_batch = item_batch.to(device)\n",
        "        rating_batch = rating_batch.to(device)\n",
        "        predictions = model(user_batch, item_batch).squeeze()\n",
        "        mse = F.mse_loss(predictions, rating_batch)\n",
        "        total_mse += mse.item()\n",
        "\n",
        "average_mse = total_mse / len(dataloader)\n",
        "rmse = average_mse ** 0.5\n",
        "print(f'Mean Squared Error: {average_mse:.4f}')\n",
        "print(f'Root Mean Squared Error: {rmse:.4f}')"
      ]
    },
    {
      "cell_type": "code",
      "execution_count": null,
      "id": "671e5e21",
      "metadata": {
        "id": "671e5e21",
        "outputId": "a1a77147-5065-40e5-a277-6d4f0757c27c"
      },
      "outputs": [
        {
          "data": {
            "text/html": [
              "<div>\n",
              "<style scoped>\n",
              "    .dataframe tbody tr th:only-of-type {\n",
              "        vertical-align: middle;\n",
              "    }\n",
              "\n",
              "    .dataframe tbody tr th {\n",
              "        vertical-align: top;\n",
              "    }\n",
              "\n",
              "    .dataframe thead th {\n",
              "        text-align: right;\n",
              "    }\n",
              "</style>\n",
              "<table border=\"1\" class=\"dataframe\">\n",
              "  <thead>\n",
              "    <tr style=\"text-align: right;\">\n",
              "      <th></th>\n",
              "      <th>Id</th>\n",
              "      <th>Title</th>\n",
              "      <th>User_id</th>\n",
              "      <th>review/helpfulness</th>\n",
              "      <th>review/score</th>\n",
              "      <th>review/time</th>\n",
              "      <th>review/summary</th>\n",
              "      <th>review/text</th>\n",
              "      <th>description</th>\n",
              "      <th>authors</th>\n",
              "      <th>publisher</th>\n",
              "      <th>publishedDate</th>\n",
              "      <th>categories</th>\n",
              "      <th>ratingsCount</th>\n",
              "      <th>compound</th>\n",
              "      <th>Sentiment</th>\n",
              "    </tr>\n",
              "  </thead>\n",
              "  <tbody>\n",
              "    <tr>\n",
              "      <th>0</th>\n",
              "      <td>1882931173</td>\n",
              "      <td>Its Only Art If Its Well Hung!</td>\n",
              "      <td>AVCGYZL8FQQTD</td>\n",
              "      <td>7/7</td>\n",
              "      <td>4.0</td>\n",
              "      <td>940636800</td>\n",
              "      <td>Nice collection of Julie Strain images</td>\n",
              "      <td>This is only for Julie Strain fans. It's a col...</td>\n",
              "      <td>NaN</td>\n",
              "      <td>['Julie Strain']</td>\n",
              "      <td>NaN</td>\n",
              "      <td>1996</td>\n",
              "      <td>['Comics &amp; Graphic Novels']</td>\n",
              "      <td>2.0</td>\n",
              "      <td>0.9408</td>\n",
              "      <td>positive</td>\n",
              "    </tr>\n",
              "  </tbody>\n",
              "</table>\n",
              "</div>"
            ],
            "text/plain": [
              "           Id                           Title        User_id  \\\n",
              "0  1882931173  Its Only Art If Its Well Hung!  AVCGYZL8FQQTD   \n",
              "\n",
              "  review/helpfulness  review/score  review/time  \\\n",
              "0                7/7           4.0    940636800   \n",
              "\n",
              "                           review/summary  \\\n",
              "0  Nice collection of Julie Strain images   \n",
              "\n",
              "                                         review/text description  \\\n",
              "0  This is only for Julie Strain fans. It's a col...         NaN   \n",
              "\n",
              "            authors publisher publishedDate                   categories  \\\n",
              "0  ['Julie Strain']       NaN          1996  ['Comics & Graphic Novels']   \n",
              "\n",
              "   ratingsCount  compound Sentiment  \n",
              "0           2.0    0.9408  positive  "
            ]
          },
          "execution_count": 19,
          "metadata": {},
          "output_type": "execute_result"
        }
      ],
      "source": [
        "merged_df.head(1)"
      ]
    },
    {
      "cell_type": "code",
      "execution_count": null,
      "id": "19d0238e",
      "metadata": {
        "id": "19d0238e",
        "outputId": "0da7e8bb-42dd-4e18-fd46-f5bc732bd22a"
      },
      "outputs": [
        {
          "name": "stdout",
          "output_type": "stream",
          "text": [
            "Predicted Rating: 3.9195\n"
          ]
        }
      ],
      "source": [
        "model.eval()\n",
        "user_index = torch.tensor([user_to_index['AVCGYZL8FQQTD']], dtype=torch.long).to(device)\n",
        "item_index = torch.tensor([item_to_index['Its Only Art If Its Well Hung!']], dtype=torch.long).to(device)\n",
        "prediction = model(user_index, item_index).item()\n",
        "print(f'Predicted Rating: {prediction:.4f}')"
      ]
    },
    {
      "cell_type": "code",
      "execution_count": null,
      "id": "84c4d550",
      "metadata": {
        "id": "84c4d550"
      },
      "outputs": [],
      "source": [
        "def get_collaborative_recommendations(model, title, num_recommendations=100):\n",
        "\n",
        "    input_title_index = item_to_index[title]\n",
        "    model.eval()\n",
        "    with torch.inference_mode():\n",
        "        similar_titles = model.get_similar_titles(input_title_index, top_k=num_recommendations)\n",
        "\n",
        "    return similar_titles"
      ]
    },
    {
      "cell_type": "code",
      "execution_count": null,
      "id": "323e8455",
      "metadata": {
        "id": "323e8455",
        "outputId": "0a27e703-4333-40ca-a2e9-3f882e8c7338"
      },
      "outputs": [
        {
          "name": "stdout",
          "output_type": "stream",
          "text": [
            "Top 10 Recommendations:\n",
            "Top1: Rambling Recollections of a Soldier of Fortune 1842\n",
            "Top2: Power Restructuring In China And Russia (Social Change in Global Perspective)\n",
            "Top3: The Berenstain Bears - Trouble With Pets/The Sitter/Too Much T.V./Lost In a Cave\n",
            "Top4: Carlo Crivelli, ([The Great masters in painting and sculpture])\n",
            "Top5: Death At The Crossroads\n",
            "Top6: Cloudbearer's Shadow (Sword in Exile, Book 1)\n",
            "Top7: Confessions of Georgia Nicolson\n",
            "Top8: Bedside Cardiology (Bedside Cardiology (Constant))\n",
            "Top9: Design for Gardens\n",
            "Top10: The Professional Trainer: A Human Resource Training and Development Guide\n"
          ]
        }
      ],
      "source": [
        "input_title = \"Its Only Art If Its Well Hung!\"\n",
        "collab_recommendations = get_collaborative_recommendations(model, input_title, num_recommendations=1000)\n",
        "print(\"Top 10 Recommendations:\")\n",
        "for i, title in enumerate(collab_recommendations[1:11], start=1):\n",
        "    print(f\"Top{i}: {title}\")"
      ]
    }
  ],
  "metadata": {
    "kernelspec": {
      "display_name": "Python 3 (ipykernel)",
      "language": "python",
      "name": "python3"
    },
    "language_info": {
      "codemirror_mode": {
        "name": "ipython",
        "version": 3
      },
      "file_extension": ".py",
      "mimetype": "text/x-python",
      "name": "python",
      "nbconvert_exporter": "python",
      "pygments_lexer": "ipython3",
      "version": "3.11.5"
    },
    "colab": {
      "provenance": []
    }
  },
  "nbformat": 4,
  "nbformat_minor": 5
}